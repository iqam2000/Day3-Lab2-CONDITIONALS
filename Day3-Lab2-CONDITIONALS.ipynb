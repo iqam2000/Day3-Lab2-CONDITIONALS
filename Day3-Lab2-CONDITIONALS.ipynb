{
 "cells": [
  {
   "cell_type": "code",
   "execution_count": 3,
   "id": "c3a8c07f",
   "metadata": {},
   "outputs": [
    {
     "name": "stdout",
     "output_type": "stream",
     "text": [
      "I recommended it . It is good\n"
     ]
    }
   ],
   "source": [
    "Movie  = \"World War Z\"\n",
    "Rating = 3 \n",
    "popularity = 72.65\n",
    "\n",
    "if Rating >= 4 and popularity > 80:\n",
    "    print(\"Highly recommended\")\n",
    "    \n",
    "elif Rating >= 3 and popularity > 70:\n",
    "    print(\"I recommended it . It is good\")\n",
    "    \n",
    "elif Rating <= 2 and popularity > 60:\n",
    "    print(\"You should check it out!\")\n",
    "    \n",
    "elif Rating <= 2 and popularity < 50:\n",
    "    print(\"Don't watch it. It is a waste of time\")\n"
   ]
  },
  {
   "cell_type": "code",
   "execution_count": null,
   "id": "3c0ebf5a",
   "metadata": {},
   "outputs": [],
   "source": []
  }
 ],
 "metadata": {
  "kernelspec": {
   "display_name": "Python 3 (ipykernel)",
   "language": "python",
   "name": "python3"
  },
  "language_info": {
   "codemirror_mode": {
    "name": "ipython",
    "version": 3
   },
   "file_extension": ".py",
   "mimetype": "text/x-python",
   "name": "python",
   "nbconvert_exporter": "python",
   "pygments_lexer": "ipython3",
   "version": "3.9.12"
  }
 },
 "nbformat": 4,
 "nbformat_minor": 5
}
